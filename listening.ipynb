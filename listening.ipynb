{
 "cells": [
  {
   "cell_type": "code",
   "execution_count": 33,
   "id": "f52b8630-1011-4dd0-a692-6c36ae5284f6",
   "metadata": {},
   "outputs": [],
   "source": [
    "import joblib\n",
    "import numpy as np\n",
    "import librosa\n",
    "import matplotlib.pyplot as plt \n",
    "import glob\n",
    "import os\n",
    "import pandas as pd\n",
    "from scipy.io.wavfile import write\n",
    "\n",
    "sample_rate = 1500"
   ]
  },
  {
   "cell_type": "markdown",
   "id": "55dea3bd-6303-48e2-b1ab-5de1b4601d6c",
   "metadata": {},
   "source": [
    "# Listening to the real SwellEx Track"
   ]
  },
  {
   "cell_type": "code",
   "execution_count": 3,
   "id": "08b5983b-4c78-4c09-aa18-dfe0d8e88ff4",
   "metadata": {},
   "outputs": [],
   "source": [
    "raw_path = r'../../data/swellex_real_vla_ts_data/channel_1.pkl'\n",
    "\n",
    "with open(raw_path, 'rb') as f:\n",
    "    raw_data = joblib.load(f)"
   ]
  },
  {
   "cell_type": "code",
   "execution_count": 37,
   "id": "91cf9fd6-aae6-4f8f-a082-596a7498c710",
   "metadata": {},
   "outputs": [],
   "source": [
    "scaled_data = raw_data * (2**15 - 1)\n",
    "int16_data = scaled_data.astype(np.int16)"
   ]
  },
  {
   "cell_type": "code",
   "execution_count": 38,
   "id": "712f357a-c6ee-40e7-bb76-fb984d1bc079",
   "metadata": {},
   "outputs": [],
   "source": [
    "write('swellex_output.wav', sample_rate, int16_data)"
   ]
  },
  {
   "cell_type": "markdown",
   "id": "0ddd36ba-d2a3-4e55-ba8c-3b87f04829f6",
   "metadata": {},
   "source": [
    "# Listening to the simulated SwellEx track"
   ]
  },
  {
   "cell_type": "code",
   "execution_count": 28,
   "id": "1477a8d3-f64e-4c6c-aa8f-0fbf5ddf4b19",
   "metadata": {},
   "outputs": [
    {
     "name": "stdout",
     "output_type": "stream",
     "text": [
      "/mnt/researchfiles/ECE IMAPLE/cluster_data/user_data/jw3897/uwasl/git/MaskCycleGAN-VC\n"
     ]
    }
   ],
   "source": [
    "!pwd"
   ]
  },
  {
   "cell_type": "code",
   "execution_count": 29,
   "id": "6811d6be-b7e2-4acc-b6c6-225d88c8190b",
   "metadata": {},
   "outputs": [],
   "source": [
    "simu_path = r'../../data/simulated_time_series_data/channel_1.pkl'\n",
    "\n",
    "with open(simu_path, 'rb') as f:\n",
    "    simu_data = joblib.load(f)"
   ]
  },
  {
   "cell_type": "code",
   "execution_count": 34,
   "id": "127634df-4c75-48de-ad47-4a60766eff65",
   "metadata": {},
   "outputs": [],
   "source": [
    "scaled_simu_data = simu_data * (2**15 - 1)\n",
    "int16_simu_data = scaled_simu_data.astype(np.int16)"
   ]
  },
  {
   "cell_type": "code",
   "execution_count": 35,
   "id": "1fac5c8c-2b06-49f5-89df-4cd144990613",
   "metadata": {},
   "outputs": [],
   "source": [
    "write('simu_output.wav', sample_rate, int16_simu_data)"
   ]
  },
  {
   "cell_type": "code",
   "execution_count": null,
   "id": "c49d7fbc-b3b4-4b32-ab61-378d2d983645",
   "metadata": {},
   "outputs": [],
   "source": []
  }
 ],
 "metadata": {
  "kernelspec": {
   "display_name": "uwasl",
   "language": "python",
   "name": "uwasl"
  },
  "language_info": {
   "codemirror_mode": {
    "name": "ipython",
    "version": 3
   },
   "file_extension": ".py",
   "mimetype": "text/x-python",
   "name": "python",
   "nbconvert_exporter": "python",
   "pygments_lexer": "ipython3",
   "version": "3.9.20"
  }
 },
 "nbformat": 4,
 "nbformat_minor": 5
}
